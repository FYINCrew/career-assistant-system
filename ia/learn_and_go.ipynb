{
 "cells": [
  {
   "cell_type": "code",
   "execution_count": 46,
   "id": "afca5bed",
   "metadata": {},
   "outputs": [],
   "source": [
    "import json\n",
    "import numpy as np\n",
    "import pandas as pd\n",
    "from sentence_transformers import SentenceTransformer\n",
    "from sklearn.model_selection import train_test_split\n",
    "\n",
    "with open(\"exemplos_detalhados_tecnologias_mvp.json\", \"r\", encoding=\"utf-8\") as f:\n",
    "    data = json.load(f)\n",
    "\n",
    "df = pd.DataFrame(data)\n",
    "model = SentenceTransformer(\"paraphrase-multilingual-MiniLM-L12-v2\")\n",
    "text_embeddings = model.encode(df[\"texto\"].tolist())\n",
    "tech_embeddings = model.encode(df[\"tecnologia\"].tolist())\n",
    "y = df[\"score\"].values\n",
    "X = np.concatenate([text_embeddings, tech_embeddings], axis=1)\n",
    "X_train, X_test, y_train, y_test = train_test_split(X, y, test_size=0.3, random_state=42)\n"
   ]
  },
  {
   "cell_type": "code",
   "execution_count": null,
   "id": "ded7c9ea",
   "metadata": {},
   "outputs": [
    {
     "name": "stdout",
     "output_type": "stream",
     "text": [
      "\n",
      "Melhores parâmetros encontrados para cada modelo:\n",
      "Melhores parâmetros Ridge: {'alpha': 0.01}\n",
      "Melhores parâmetros MLP: {'activation': 'tanh', 'alpha': 1, 'hidden_layer_sizes': (128,), 'learning_rate': 'constant', 'solver': 'lbfgs'}\n",
      "Melhores parâmetros Random Forest: {'max_depth': None, 'min_samples_leaf': 2, 'min_samples_split': 5, 'n_estimators': 300}\n",
      "Melhores parâmetros Gradient Boosting: {'learning_rate': 0.1, 'max_depth': 7, 'min_samples_split': 2, 'n_estimators': 200, 'subsample': 0.9}\n",
      "\n",
      "MSE de cada modelo:\n",
      "MSE Ridge: 143.72\n",
      "MSE MLP: 150.27\n",
      "MSE Random Forest: 116.81\n",
      "MSE Gradient Boosting: 79.05\n"
     ]
    }
   ],
   "source": [
    "from sklearn.ensemble import RandomForestRegressor, GradientBoostingRegressor\n",
    "from sklearn.neural_network import MLPRegressor\n",
    "from sklearn.linear_model import Ridge\n",
    "from sklearn.model_selection import GridSearchCV\n",
    "from sklearn.metrics import mean_squared_error\n",
    "\n",
    "ridge = Ridge()\n",
    "mlp = MLPRegressor(max_iter=300, random_state=42)\n",
    "rf = RandomForestRegressor(random_state=42)\n",
    "gb = GradientBoostingRegressor(random_state=42)\n",
    "\n",
    "# Ridge\n",
    "param_grid_ridge = {\n",
    "    'alpha': [0.01, 0.1, 1, 10, 100]\n",
    "}\n",
    "grid_ridge = GridSearchCV(ridge, param_grid_ridge, cv=5, scoring='neg_mean_squared_error', n_jobs=-1)\n",
    "grid_ridge.fit(X_train, y_train)\n",
    "best_ridge = grid_ridge.best_estimator_\n",
    "\n",
    "# MLP\n",
    "param_grid_mlp = {\n",
    "    'hidden_layer_sizes': [(32,), (64,), (128,), (256,)],\n",
    "    'activation': ['relu', 'tanh'],\n",
    "    'solver': ['adam', 'lbfgs'],\n",
    "    'alpha': [0.01, 0.1, 1, 10],\n",
    "    'learning_rate': ['constant', 'adaptive']\n",
    "}\n",
    "grid_mlp = GridSearchCV(mlp, param_grid_mlp, cv=5, scoring='neg_mean_squared_error', n_jobs=-1)\n",
    "grid_mlp.fit(X_train, y_train)\n",
    "best_mlp = grid_mlp.best_estimator_\n",
    "\n",
    "# Random Forest\n",
    "param_grid_rf = {\n",
    "    'n_estimators': [100, 200, 300],\n",
    "    'max_depth': [None, 10, 20, 30],\n",
    "    'min_samples_split': [2, 5, 10],\n",
    "    'min_samples_leaf': [1, 2, 4]\n",
    "}\n",
    "grid_rf = GridSearchCV(rf, param_grid_rf, cv=5, scoring='neg_mean_squared_error', n_jobs=-1)\n",
    "grid_rf.fit(X_train, y_train)\n",
    "best_rf = grid_rf.best_estimator_\n",
    "\n",
    "# Gradient Boosting\n",
    "param_grid_gb = {\n",
    "    'n_estimators': [100, 200],\n",
    "    'learning_rate': [0.01, 0.1, 0.2],\n",
    "    'max_depth': [3, 5, 7],\n",
    "    'subsample': [0.8, 0.9, 1.0],\n",
    "    'min_samples_split': [2, 5]\n",
    "}\n",
    "grid_gb = GridSearchCV(gb, param_grid_gb, cv=5, scoring='neg_mean_squared_error', n_jobs=-1)\n",
    "grid_gb.fit(X_train, y_train)\n",
    "best_gb = grid_gb.best_estimator_\n",
    "\n",
    "print(\"\\nMelhores parâmetros encontrados para cada modelo:\")\n",
    "print(f\"Melhores parâmetros Ridge: {grid_ridge.best_params_}\")\n",
    "print(f\"Melhores parâmetros MLP: {grid_mlp.best_params_}\")\n",
    "print(f\"Melhores parâmetros Random Forest: {grid_rf.best_params_}\")\n",
    "print(f\"Melhores parâmetros Gradient Boosting: {grid_gb.best_params_}\")\n",
    "\n",
    "# MSE\n",
    "y_pred_ridge = best_ridge.predict(X_test)\n",
    "y_pred_mlp = best_mlp.predict(X_test)\n",
    "y_pred_rf = best_rf.predict(X_test)\n",
    "y_pred_gb = best_gb.predict(X_test)\n",
    "\n",
    "mse_ridge = mean_squared_error(y_test, y_pred_ridge)\n",
    "mse_mlp = mean_squared_error(y_test, y_pred_mlp)\n",
    "mse_rf = mean_squared_error(y_test, y_pred_rf)\n",
    "mse_gb = mean_squared_error(y_test, y_pred_gb)\n",
    "\n",
    "print(\"\\nMSE de cada modelo:\")\n",
    "print(f\"MSE Ridge: {mse_ridge:.2f}\")\n",
    "print(f\"MSE MLP: {mse_mlp:.2f}\")\n",
    "print(f\"MSE Random Forest: {mse_rf:.2f}\")\n",
    "print(f\"MSE Gradient Boosting: {mse_gb:.2f}\")"
   ]
  },
  {
   "cell_type": "code",
   "execution_count": null,
   "id": "085ce546",
   "metadata": {},
   "outputs": [
    {
     "name": "stdout",
     "output_type": "stream",
     "text": [
      "Pontuações previstas para o novo texto:\n",
      "Ridge:             71.44\n",
      "MLP:               74.33\n",
      "Random Forest:     74.67\n",
      "Gradient Boosting: 81.35\n"
     ]
    }
   ],
   "source": [
    "novo_texto = \"Atuei com manutenção de sistemas legados escritos em C#, fazendo correções e pequenas melhorias em módulos existentes. E esenvolvi aplicações web com ASP.NET MVC, implementando controle de autenticação, integração com banco de dados via Entity Framework e padrões de projeto.\"\n",
    "nova_tecnologia = \"c#\"\n",
    "\n",
    "embedding_texto = model.encode([novo_texto])\n",
    "embedding_tecnologia = model.encode([nova_tecnologia])\n",
    "\n",
    "embedding_novo = np.concatenate([embedding_texto, embedding_tecnologia], axis=1)\n",
    "\n",
    "score_ridge = best_ridge.predict(embedding_novo)[0]\n",
    "score_mlp = best_mlp.predict(embedding_novo)[0]\n",
    "score_rf = best_rf.predict(embedding_novo)[0]\n",
    "score_gb = best_gb.predict(embedding_novo)[0]\n",
    "\n",
    "print(\"Pontuações previstas para o novo texto:\")\n",
    "print(f\"Ridge:             {score_ridge:.2f}\")\n",
    "print(f\"MLP:               {score_mlp:.2f}\")\n",
    "print(f\"Random Forest:     {score_rf:.2f}\")\n",
    "print(f\"Gradient Boosting: {score_gb:.2f}\")"
   ]
  },
  {
   "cell_type": "code",
   "execution_count": null,
   "id": "c425889c",
   "metadata": {},
   "outputs": [
    {
     "name": "stderr",
     "output_type": "stream",
     "text": [
      "c:\\Users\\prjlu\\Documents\\TCC\\venv\\Lib\\site-packages\\sklearn\\neural_network\\_multilayer_perceptron.py:546: ConvergenceWarning: lbfgs failed to converge (status=1):\n",
      "STOP: TOTAL NO. OF ITERATIONS REACHED LIMIT.\n",
      "\n",
      "Increase the number of iterations (max_iter) or scale the data as shown in:\n",
      "    https://scikit-learn.org/stable/modules/preprocessing.html\n",
      "  self.n_iter_ = _check_optimize_result(\"lbfgs\", opt_res, self.max_iter)\n"
     ]
    },
    {
     "name": "stdout",
     "output_type": "stream",
     "text": [
      "Pontuações previstas para o novo texto:\n",
      "Ridge:             75.31\n",
      "MLP:               75.44\n",
      "Random Forest:     75.34\n",
      "Gradient Boosting: 78.59\n",
      "\n",
      "Erro Quadrático Médio (MSE) de cada modelo:\n",
      "MSE Ridge: 206.11\n",
      "MSE MLP: 207.98\n",
      "MSE Random Forest: 163.72\n",
      "MSE Gradient Boosting: 133.70\n",
      "\n",
      "Melhores parâmetros encontrados para cada modelo:\n",
      "Melhores parâmetros Ridge: {'alpha': 0.1}\n",
      "Melhores parâmetros MLP: {'activation': 'relu', 'alpha': 0.1, 'hidden_layer_sizes': (64,), 'learning_rate': 'constant', 'solver': 'lbfgs'}\n",
      "Melhores parâmetros Random Forest: {'max_depth': None, 'min_samples_leaf': 1, 'min_samples_split': 5, 'n_estimators': 300}\n",
      "Melhores parâmetros Gradient Boosting: {'learning_rate': 0.2, 'max_depth': 3, 'min_samples_split': 5, 'n_estimators': 100, 'subsample': 0.9}\n"
     ]
    }
   ],
   "source": []
  }
 ],
 "metadata": {
  "kernelspec": {
   "display_name": "venv",
   "language": "python",
   "name": "python3"
  },
  "language_info": {
   "codemirror_mode": {
    "name": "ipython",
    "version": 3
   },
   "file_extension": ".py",
   "mimetype": "text/x-python",
   "name": "python",
   "nbconvert_exporter": "python",
   "pygments_lexer": "ipython3",
   "version": "3.12.3"
  }
 },
 "nbformat": 4,
 "nbformat_minor": 5
}
