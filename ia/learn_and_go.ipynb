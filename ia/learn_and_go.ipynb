{
 "cells": [
  {
   "cell_type": "code",
   "execution_count": null,
   "id": "afca5bed",
   "metadata": {},
   "outputs": [],
   "source": [
    "import json, os\n",
    "import numpy as np\n",
    "import pandas as pd\n",
    "from sentence_transformers import SentenceTransformer\n",
    "from sklearn.model_selection import train_test_split\n",
    "\n",
    "def concatenar_listas_json(pasta):\n",
    "    lista_concatenada = []\n",
    "    for nome_arquivo in os.listdir(pasta):\n",
    "        if nome_arquivo.endswith('.json'):\n",
    "            caminho_arquivo = os.path.join(pasta, nome_arquivo)\n",
    "            with open(caminho_arquivo, 'r', encoding='utf-8') as f:\n",
    "                try:\n",
    "                    dados = json.load(f)\n",
    "                    if isinstance(dados, list):\n",
    "                        lista_concatenada.extend(dados)\n",
    "                except json.JSONDecodeError as e:\n",
    "                    print(f\"Erro ao ler {nome_arquivo}: {e}\")\n",
    "\n",
    "    return lista_concatenada\n",
    "\n",
    "pasta = r'.\\aceitos' \n",
    "data = concatenar_listas_json(pasta)\n",
    "\n",
    "df = pd.DataFrame(data)\n",
    "model = SentenceTransformer(\"paraphrase-multilingual-MiniLM-L12-v2\")\n",
    "text_embeddings = model.encode(df[\"texto\"].tolist())\n",
    "tech_embeddings = model.encode(df[\"tecnologia\"].tolist())\n",
    "y = df[\"score\"].values\n",
    "X = np.concatenate([text_embeddings, tech_embeddings], axis=1)\n",
    "X_train, X_test, y_train, y_test = train_test_split(X, y, test_size=0.3, random_state=42)\n"
   ]
  },
  {
   "cell_type": "code",
   "execution_count": null,
   "id": "ded7c9ea",
   "metadata": {},
   "outputs": [
    {
     "name": "stdout",
     "output_type": "stream",
     "text": [
      "Melhores parâmetros MLP: {'activation': 'tanh', 'alpha': 0.01, 'hidden_layer_sizes': (128,), 'learning_rate': 'constant', 'solver': 'lbfgs'}\n",
      "MSE MLP: 115.23\n"
     ]
    },
    {
     "name": "stderr",
     "output_type": "stream",
     "text": [
      "c:\\Users\\prjlu\\Documents\\TCC\\career-assistant-system\\ia\\venv\\Lib\\site-packages\\sklearn\\neural_network\\_multilayer_perceptron.py:546: ConvergenceWarning: lbfgs failed to converge (status=1):\n",
      "STOP: TOTAL NO. OF ITERATIONS REACHED LIMIT.\n",
      "\n",
      "Increase the number of iterations (max_iter) or scale the data as shown in:\n",
      "    https://scikit-learn.org/stable/modules/preprocessing.html\n",
      "  self.n_iter_ = _check_optimize_result(\"lbfgs\", opt_res, self.max_iter)\n"
     ]
    }
   ],
   "source": [
    "from sklearn.neural_network import MLPRegressor\n",
    "from sklearn.model_selection import GridSearchCV\n",
    "from sklearn.metrics import mean_squared_error\n",
    "\n",
    "mlp = MLPRegressor(max_iter=300, random_state=42)\n",
    "\n",
    "# MLP\n",
    "param_grid_mlp = {\n",
    "    'hidden_layer_sizes': [(32,), (64,), (128,), (256,)],\n",
    "    'activation': ['relu', 'tanh'],\n",
    "    'solver': ['adam', 'lbfgs'],\n",
    "    'alpha': [0.01, 0.1, 1, 10],\n",
    "    'learning_rate': ['constant', 'adaptive']\n",
    "}\n",
    "grid_mlp = GridSearchCV(mlp, param_grid_mlp, cv=5, scoring='neg_mean_squared_error', n_jobs=-1)\n",
    "grid_mlp.fit(X_train, y_train)\n",
    "best_mlp = grid_mlp.best_estimator_\n",
    "\n",
    "print(f\"Melhores parâmetros MLP: {grid_mlp.best_params_}\")\n",
    "\n",
    "# MSE\n",
    "y_pred_mlp = best_mlp.predict(X_test)\n",
    "mse_mlp = mean_squared_error(y_test, y_pred_mlp)\n",
    "print(f\"MSE MLP: {mse_mlp:.2f}\")"
   ]
  },
  {
   "cell_type": "code",
   "execution_count": null,
   "id": "085ce546",
   "metadata": {},
   "outputs": [
    {
     "name": "stdout",
     "output_type": "stream",
     "text": [
      "MLP: 73.74\n"
     ]
    }
   ],
   "source": [
    "novo_texto = \"Criei data lakes e supri dados para uma aplicação utilizando python, mysql e bigquery que envolve aprendizado de bigdata.\"\n",
    "nova_tecnologia = \"python\"\n",
    "\n",
    "embedding_texto = model.encode([novo_texto])\n",
    "embedding_tecnologia = model.encode([nova_tecnologia])\n",
    "embedding_novo = np.concatenate([embedding_texto, embedding_tecnologia], axis=1)\n",
    "score_mlp = best_mlp.predict(embedding_novo)[0]\n",
    "\n",
    "print(f\"MLP: {score_mlp:.2f}\")"
   ]
  },
  {
   "cell_type": "code",
   "execution_count": null,
   "id": "84caa701",
   "metadata": {},
   "outputs": [],
   "source": [
    "import joblib\n",
    "\n",
    "joblib.dump(best_mlp, 'modelo_mlp_treinado.pkl')"
   ]
  },
  {
   "cell_type": "code",
   "execution_count": null,
   "id": "1ce98181",
   "metadata": {},
   "outputs": [],
   "source": [
    "modelo_carregado = joblib.load('modelo_mlp_treinado.pkl')"
   ]
  }
 ],
 "metadata": {
  "kernelspec": {
   "display_name": "venv",
   "language": "python",
   "name": "python3"
  },
  "language_info": {
   "codemirror_mode": {
    "name": "ipython",
    "version": 3
   },
   "file_extension": ".py",
   "mimetype": "text/x-python",
   "name": "python",
   "nbconvert_exporter": "python",
   "pygments_lexer": "ipython3",
   "version": "3.12.3"
  }
 },
 "nbformat": 4,
 "nbformat_minor": 5
}
